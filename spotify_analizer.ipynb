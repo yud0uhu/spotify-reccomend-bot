{
  "nbformat": 4,
  "nbformat_minor": 0,
  "metadata": {
    "colab": {
      "name": "spotify_analizer.ipynb",
      "provenance": [],
      "collapsed_sections": [],
      "authorship_tag": "ABX9TyMB9p4FRfSnWtclxYknguXc",
      "include_colab_link": true
    },
    "kernelspec": {
      "name": "python3",
      "display_name": "Python 3"
    },
    "language_info": {
      "name": "python"
    }
  },
  "cells": [
    {
      "cell_type": "markdown",
      "metadata": {
        "id": "view-in-github",
        "colab_type": "text"
      },
      "source": [
        "<a href=\"https://colab.research.google.com/github/yud0uhu/spotify-reccomend-bot/blob/main/spotify_analizer.ipynb\" target=\"_parent\"><img src=\"https://colab.research.google.com/assets/colab-badge.svg\" alt=\"Open In Colab\"/></a>"
      ]
    },
    {
      "cell_type": "code",
      "metadata": {
        "id": "d2FnCB8_S3YI"
      },
      "source": [
        "!pip install spotipy"
      ],
      "execution_count": null,
      "outputs": []
    },
    {
      "cell_type": "code",
      "metadata": {
        "id": "Bzntrc1fculu"
      },
      "source": [
        "import spotipy\n",
        "from spotipy.oauth2 import SpotifyClientCredentials\n",
        "import sys\n",
        "import os\n",
        "\n",
        "\n",
        "client_id =\n",
        "client_secret =\n",
        "user_id =\n",
        "client_credentials_manager = spotipy.oauth2.SpotifyClientCredentials(client_id, client_secret)\n",
        "\n",
        "sp = spotipy.Spotify(client_credentials_manager=client_credentials_manager)\n",
        "\n",
        "def getTrackId(track_name):\n",
        "    try:\n",
        "        search_id = sp.search(track_name, limit=1, offset=0, type='track', market=None)[\"tracks\"][\"items\"]\n",
        "        track = search_id[0]\n",
        "        track_id = track[\"id\"]\n",
        "        return track_id\n",
        "\n",
        "    except IndexError:\n",
        "        print(\"IndexError has occurred!\")\n",
        "    except AttributeError:\n",
        "        print(\"AttributeError has occurred!\")\n",
        "\n",
        "def getAudioFeature(track_id):\n",
        "    try:\n",
        "        features = sp.audio_features(track_id)\n",
        "        for feature in features:\n",
        "          return feature\n",
        "\n",
        "    except IndexError:\n",
        "        print(\"IndexError has occurred!\")\n",
        "    except AttributeError:\n",
        "        print(\"AttributeError has occurred!\")\n",
        "\n",
        "\n",
        "def getRecommendTracks(track_id):\n",
        "    try:\n",
        "      playlist_features = []\n",
        "      danceabilitys = []\n",
        "      # プレイリストの特徴量を検出\n",
        "      result = sp.user_playlist(user_id, '37i9dQZF1E35r4Op1DJzHt')\n",
        "\n",
        "      for track in result['tracks']['items']:\n",
        "        playlist_id = track['track']['id']\n",
        "        playlist_features.append(getAudioFeature(playlist_id))\n",
        "\n",
        "      # 取得曲の特徴量を検出\n",
        "      track_feature = getAudioFeature(track_id)\n",
        "\n",
        "      for playlist_feature in playlist_features:\n",
        "        if track_feature['danceability'] > 0.56:\n",
        "            if (track_feature['danceability']-1) <= playlist_feature['danceability'] <= (track_feature['danceability']+1) and \\\n",
        "                (track_feature['energy']-0.1) <= playlist_feature['energy'] <= (track_feature['energy']+0.1):\n",
        "                match = sp.track(playlist_feature['id'])\n",
        "                return \"ノリノリなあなたには\" + match['name'] + \"もおすすめです！\"\n",
        "\n",
        "        elif track_feature['mode'] == 0:\n",
        "          if (track_feature['acousticness']-0.1) <= playlist_feature['acousticness'] <= (track_feature['acousticness']+0.1) and playlist_feature['mode'] == 0:\n",
        "              match = sp.track(playlist_feature['id'])\n",
        "              return \"ムーディなあなたにはこちら！\" + match['name']\n",
        "\n",
        "        else :\n",
        "          return \"にゃーん\"\n",
        "\n",
        "    except IndexError:\n",
        "        print(\"IndexError has occurred!\")\n",
        "    except AttributeError:\n",
        "        print(\"AttributeError has occurred!\")\n",
        "\n",
        "if __name__ == '__main__':\n",
        "    track_id = getTrackId(\"butter\")\n",
        "    # track_id = getTrackId(\"future nova\")\n",
        "    # track_id = getTrackId(\"vent\")\n",
        "    print(getRecommendTracks(track_id))\n",
        "    "
      ],
      "execution_count": null,
      "outputs": []
    }
  ]
}